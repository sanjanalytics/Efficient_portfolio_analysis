{
 "cells": [
  {
   "cell_type": "code",
   "execution_count": 30,
   "id": "b6191b84-66a2-4933-9a4d-f1b2395b87a0",
   "metadata": {},
   "outputs": [],
   "source": [
    "#IMPORTING LIBRARIES \n",
    "\n",
    "import pandas as pd\n",
    "import numpy as np \n",
    "import yfinance as yf\n",
    "from datetime import datetime"
   ]
  },
  {
   "cell_type": "code",
   "execution_count": 32,
   "id": "53b63e05-67f3-4832-9602-f951b4f1bc4d",
   "metadata": {},
   "outputs": [],
   "source": [
    "import matplotlib.pyplot as plt"
   ]
  },
  {
   "cell_type": "raw",
   "id": "317b39cc-de9a-441f-8069-51173ebae77f",
   "metadata": {},
   "source": [
    "Analysing a Portfolio of Stocks"
   ]
  },
  {
   "cell_type": "code",
   "execution_count": 34,
   "id": "0e6b98a1-ca2a-4c14-9c85-4a87beb91b25",
   "metadata": {},
   "outputs": [
    {
     "name": "stderr",
     "output_type": "stream",
     "text": [
      "[*********************100%***********************]  4 of 4 completed\n"
     ]
    },
    {
     "data": {
      "text/html": [
       "<div>\n",
       "<style scoped>\n",
       "    .dataframe tbody tr th:only-of-type {\n",
       "        vertical-align: middle;\n",
       "    }\n",
       "\n",
       "    .dataframe tbody tr th {\n",
       "        vertical-align: top;\n",
       "    }\n",
       "\n",
       "    .dataframe thead th {\n",
       "        text-align: right;\n",
       "    }\n",
       "</style>\n",
       "<table border=\"1\" class=\"dataframe\">\n",
       "  <thead>\n",
       "    <tr style=\"text-align: right;\">\n",
       "      <th>Ticker</th>\n",
       "      <th>ADANIENT.NS</th>\n",
       "      <th>GAIL.NS</th>\n",
       "      <th>LT.NS</th>\n",
       "      <th>RELIANCE.NS</th>\n",
       "    </tr>\n",
       "    <tr>\n",
       "      <th>Date</th>\n",
       "      <th></th>\n",
       "      <th></th>\n",
       "      <th></th>\n",
       "      <th></th>\n",
       "    </tr>\n",
       "  </thead>\n",
       "  <tbody>\n",
       "    <tr>\n",
       "      <th>2019-09-16 00:00:00+00:00</th>\n",
       "      <td>144.529541</td>\n",
       "      <td>68.710136</td>\n",
       "      <td>1225.972656</td>\n",
       "      <td>1087.592041</td>\n",
       "    </tr>\n",
       "    <tr>\n",
       "      <th>2019-09-17 00:00:00+00:00</th>\n",
       "      <td>142.350952</td>\n",
       "      <td>69.875618</td>\n",
       "      <td>1198.690552</td>\n",
       "      <td>1075.644775</td>\n",
       "    </tr>\n",
       "    <tr>\n",
       "      <th>2019-09-18 00:00:00+00:00</th>\n",
       "      <td>142.747055</td>\n",
       "      <td>71.491379</td>\n",
       "      <td>1202.614014</td>\n",
       "      <td>1083.055786</td>\n",
       "    </tr>\n",
       "    <tr>\n",
       "      <th>2019-09-19 00:00:00+00:00</th>\n",
       "      <td>141.162613</td>\n",
       "      <td>70.484840</td>\n",
       "      <td>1186.828613</td>\n",
       "      <td>1059.116577</td>\n",
       "    </tr>\n",
       "    <tr>\n",
       "      <th>2019-09-20 00:00:00+00:00</th>\n",
       "      <td>147.648865</td>\n",
       "      <td>71.358955</td>\n",
       "      <td>1287.928467</td>\n",
       "      <td>1126.756958</td>\n",
       "    </tr>\n",
       "  </tbody>\n",
       "</table>\n",
       "</div>"
      ],
      "text/plain": [
       "Ticker                     ADANIENT.NS    GAIL.NS        LT.NS  RELIANCE.NS\n",
       "Date                                                                       \n",
       "2019-09-16 00:00:00+00:00   144.529541  68.710136  1225.972656  1087.592041\n",
       "2019-09-17 00:00:00+00:00   142.350952  69.875618  1198.690552  1075.644775\n",
       "2019-09-18 00:00:00+00:00   142.747055  71.491379  1202.614014  1083.055786\n",
       "2019-09-19 00:00:00+00:00   141.162613  70.484840  1186.828613  1059.116577\n",
       "2019-09-20 00:00:00+00:00   147.648865  71.358955  1287.928467  1126.756958"
      ]
     },
     "execution_count": 34,
     "metadata": {},
     "output_type": "execute_result"
    }
   ],
   "source": [
    "stocks = 'RELIANCE.NS, ADANIENT.NS, LT.NS, GAIL.NS'\n",
    "end= datetime.now()\n",
    "start = datetime(end.year - 5, end.month, end.day)\n",
    "\n",
    "data = yf.download(stocks, start=start, end=end)\n",
    "\n",
    "portfolio = data['Adj Close']\n",
    "portfolio.head()\n"
   ]
  },
  {
   "cell_type": "code",
   "execution_count": 35,
   "id": "02e1ca60-b2b1-4ecc-9d15-923144460062",
   "metadata": {},
   "outputs": [
    {
     "data": {
      "text/html": [
       "<div>\n",
       "<style scoped>\n",
       "    .dataframe tbody tr th:only-of-type {\n",
       "        vertical-align: middle;\n",
       "    }\n",
       "\n",
       "    .dataframe tbody tr th {\n",
       "        vertical-align: top;\n",
       "    }\n",
       "\n",
       "    .dataframe thead th {\n",
       "        text-align: right;\n",
       "    }\n",
       "</style>\n",
       "<table border=\"1\" class=\"dataframe\">\n",
       "  <thead>\n",
       "    <tr style=\"text-align: right;\">\n",
       "      <th>Ticker</th>\n",
       "      <th>ADANIENT.NS</th>\n",
       "      <th>GAIL.NS</th>\n",
       "      <th>LT.NS</th>\n",
       "      <th>RELIANCE.NS</th>\n",
       "    </tr>\n",
       "    <tr>\n",
       "      <th>Date</th>\n",
       "      <th></th>\n",
       "      <th></th>\n",
       "      <th></th>\n",
       "      <th></th>\n",
       "    </tr>\n",
       "  </thead>\n",
       "  <tbody>\n",
       "    <tr>\n",
       "      <th>2024-09-09 00:00:00+00:00</th>\n",
       "      <td>2964.149902</td>\n",
       "      <td>217.750000</td>\n",
       "      <td>3578.300049</td>\n",
       "      <td>2924.899902</td>\n",
       "    </tr>\n",
       "    <tr>\n",
       "      <th>2024-09-10 00:00:00+00:00</th>\n",
       "      <td>2986.399902</td>\n",
       "      <td>219.929993</td>\n",
       "      <td>3596.149902</td>\n",
       "      <td>2923.050049</td>\n",
       "    </tr>\n",
       "    <tr>\n",
       "      <th>2024-09-11 00:00:00+00:00</th>\n",
       "      <td>2937.850098</td>\n",
       "      <td>217.190002</td>\n",
       "      <td>3536.949951</td>\n",
       "      <td>2903.000000</td>\n",
       "    </tr>\n",
       "    <tr>\n",
       "      <th>2024-09-12 00:00:00+00:00</th>\n",
       "      <td>2991.000000</td>\n",
       "      <td>220.639999</td>\n",
       "      <td>3622.000000</td>\n",
       "      <td>2959.600098</td>\n",
       "    </tr>\n",
       "    <tr>\n",
       "      <th>2024-09-13 00:00:00+00:00</th>\n",
       "      <td>2968.350098</td>\n",
       "      <td>218.869995</td>\n",
       "      <td>3613.000000</td>\n",
       "      <td>2945.250000</td>\n",
       "    </tr>\n",
       "  </tbody>\n",
       "</table>\n",
       "</div>"
      ],
      "text/plain": [
       "Ticker                     ADANIENT.NS     GAIL.NS        LT.NS  RELIANCE.NS\n",
       "Date                                                                        \n",
       "2024-09-09 00:00:00+00:00  2964.149902  217.750000  3578.300049  2924.899902\n",
       "2024-09-10 00:00:00+00:00  2986.399902  219.929993  3596.149902  2923.050049\n",
       "2024-09-11 00:00:00+00:00  2937.850098  217.190002  3536.949951  2903.000000\n",
       "2024-09-12 00:00:00+00:00  2991.000000  220.639999  3622.000000  2959.600098\n",
       "2024-09-13 00:00:00+00:00  2968.350098  218.869995  3613.000000  2945.250000"
      ]
     },
     "execution_count": 35,
     "metadata": {},
     "output_type": "execute_result"
    }
   ],
   "source": [
    "portfolio.tail()"
   ]
  },
  {
   "cell_type": "code",
   "execution_count": 38,
   "id": "86c80d13-e8b4-4df9-8c92-7ba8324a3c8d",
   "metadata": {},
   "outputs": [
    {
     "name": "stdout",
     "output_type": "stream",
     "text": [
      "Ticker                     ADANIENT.NS   GAIL.NS     LT.NS  RELIANCE.NS\n",
      "Date                                                                   \n",
      "2019-09-17 00:00:00+00:00    -0.015074  0.016962 -0.022253    -0.010985\n",
      "2019-09-18 00:00:00+00:00     0.002783  0.023123  0.003273     0.006890\n",
      "2019-09-19 00:00:00+00:00    -0.011100 -0.014079 -0.013126    -0.022103\n",
      "2019-09-20 00:00:00+00:00     0.045949  0.012401  0.085185     0.063865\n",
      "2019-09-23 00:00:00+00:00     0.022133  0.048998  0.082891    -0.012078\n",
      "...                                ...       ...       ...          ...\n",
      "2024-09-09 00:00:00+00:00    -0.003798 -0.022754  0.000993    -0.001621\n",
      "2024-09-10 00:00:00+00:00     0.007506  0.010011  0.004988    -0.000632\n",
      "2024-09-11 00:00:00+00:00    -0.016257 -0.012458 -0.016462    -0.006859\n",
      "2024-09-12 00:00:00+00:00     0.018091  0.015885  0.024046     0.019497\n",
      "2024-09-13 00:00:00+00:00    -0.007573 -0.008022 -0.002485    -0.004849\n",
      "\n",
      "[1236 rows x 4 columns]\n"
     ]
    }
   ],
   "source": [
    "#Daily returns of the portfolio\n",
    "returns = portfolio.pct_change().dropna()\n",
    "print(returns)"
   ]
  },
  {
   "cell_type": "code",
   "execution_count": 40,
   "id": "bb8f19cf-81bf-4ed0-8afc-4bad99749b37",
   "metadata": {},
   "outputs": [],
   "source": [
    "#Defining the weights of the portfolio\n",
    "\n",
    "weights = np.array([0.3, 0.25, 0.25, 0.2])\n"
   ]
  },
  {
   "cell_type": "code",
   "execution_count": 42,
   "id": "45a9f176-e2d5-4389-9de6-c17a4b761c51",
   "metadata": {},
   "outputs": [
    {
     "name": "stdout",
     "output_type": "stream",
     "text": [
      "Expected Annual Return: 41.88%\n",
      "Annual Volatility: 27.82%\n"
     ]
    }
   ],
   "source": [
    "#Annualising the returns\n",
    "portfolio_return = np.sum(weights * returns.mean()) * 252\n",
    "\n",
    "#Annualising the covariance\n",
    "cov_matrix = returns.cov()\n",
    "annual_cov_matrix = cov_matrix * 252 \n",
    "\n",
    "#Portfolio variance\n",
    "portfolio_variance = np.dot(weights.T, np.dot(annual_cov_matrix, weights))\n",
    "\n",
    "#Portfolio standard deviation\n",
    "portfolio_volatility = np.sqrt(portfolio_variance)\n",
    "\n",
    "print(\"Expected Annual Return: {:.2%}\".format(portfolio_return))\n",
    "print(\"Annual Volatility: {:.2%}\".format(portfolio_volatility))"
   ]
  },
  {
   "cell_type": "code",
   "execution_count": 44,
   "id": "48fc2064-fb88-490c-a8ef-60af0fcb03c2",
   "metadata": {},
   "outputs": [],
   "source": [
    "from pypfopt import risk_models, expected_returns\n",
    "from pypfopt.efficient_frontier import EfficientFrontier"
   ]
  },
  {
   "cell_type": "code",
   "execution_count": 46,
   "id": "6dae0430-6d98-4d42-9b2f-5aaa7de67a49",
   "metadata": {},
   "outputs": [
    {
     "name": "stdout",
     "output_type": "stream",
     "text": [
      "Ticker       ADANIENT.NS   GAIL.NS     LT.NS  RELIANCE.NS\n",
      "Ticker                                                   \n",
      "ADANIENT.NS     0.283208  0.058073  0.051205     0.052881\n",
      "GAIL.NS         0.058073  0.130318  0.040719     0.036169\n",
      "LT.NS           0.051205  0.040719  0.083803     0.035009\n",
      "RELIANCE.NS     0.052881  0.036169  0.035009     0.089468\n"
     ]
    }
   ],
   "source": [
    "# Expected returns\n",
    "mu = expected_returns.mean_historical_return(portfolio) \n",
    "\n",
    "#Covariance matrix\n",
    "S = risk_models.sample_cov(portfolio)\n",
    "\n",
    "print(S)"
   ]
  },
  {
   "cell_type": "code",
   "execution_count": 60,
   "id": "c5053cd6-089a-4cf3-ac33-b5f5a2c36cdd",
   "metadata": {},
   "outputs": [],
   "source": [
    "from pypfopt import EfficientFrontier\n",
    "import matplotlib.pyplot as plt"
   ]
  },
  {
   "cell_type": "code",
   "execution_count": 62,
   "id": "f1529ac6-8269-4722-9d0c-65c4e7a9033d",
   "metadata": {},
   "outputs": [],
   "source": [
    "#Efficient Frontier\n",
    "ef = EfficientFrontier(mu, S)"
   ]
  },
  {
   "cell_type": "code",
   "execution_count": 64,
   "id": "46dcca1c-58fa-4efd-a212-2fc022e8995d",
   "metadata": {},
   "outputs": [
    {
     "name": "stdout",
     "output_type": "stream",
     "text": [
      "OrderedDict([('ADANIENT.NS', 0.01385), ('GAIL.NS', 0.19155), ('LT.NS', 0.41089), ('RELIANCE.NS', 0.38372)])\n"
     ]
    }
   ],
   "source": [
    "min_variance_weights = ef.min_volatility()\n",
    "cleaned_weights = ef.clean_weights()\n",
    "print(cleaned_weights)"
   ]
  },
  {
   "cell_type": "code",
   "execution_count": 66,
   "id": "b61ecded-44a7-4bb9-b529-0771850d6e74",
   "metadata": {},
   "outputs": [
    {
     "name": "stdout",
     "output_type": "stream",
     "text": [
      "Expected annual return: 25.1%\n",
      "Annual volatility: 23.7%\n",
      "Sharpe Ratio: 0.97\n"
     ]
    }
   ],
   "source": [
    "portfolio_performance = ef.portfolio_performance(verbose=True)"
   ]
  },
  {
   "cell_type": "code",
   "execution_count": 90,
   "id": "bc51ed74-f5ae-4636-9c54-88f08e2101a3",
   "metadata": {},
   "outputs": [
    {
     "name": "stdout",
     "output_type": "stream",
     "text": [
      "Expected annual return: 25.1%\n",
      "Annual volatility: 23.7%\n",
      "Sharpe Ratio: 0.97\n"
     ]
    },
    {
     "data": {
      "image/png": "[encoded data removed]",
      "text/plain": [
       "<Figure size 640x480 with 1 Axes>"
      ]
     },
     "metadata": {},
     "output_type": "display_data"
    }
   ],
   "source": [
    "from pypfopt import plotting, EfficientFrontier\n",
    "import matplotlib.pyplot as plt\n",
    "\n",
    "#Expected returns and the covariance matrix\n",
    "mu = expected_returns.mean_historical_return(portfolio)\n",
    "S = risk_models.sample_cov(portfolio)\n",
    "\n",
    "# Restating the efficient frontier\n",
    "ef = EfficientFrontier(mu, S)\n",
    "\n",
    "#The Minimum Volatility portfolio\n",
    "min_volatility_weights = ef.min_volatility()\n",
    "min_vol_perf = ef.portfolio_performance(verbose=True)\n",
    "\n",
    "#Restating the efficient Frontier again for plotting purposes\n",
    "ef_for_plotting = EfficientFrontier(mu, S)\n",
    "fig, ax = plt.subplots()\n",
    "plotting.plot_efficient_frontier(ef_for_plotting, ax=ax, show_assets=True)\n",
    "ax.scatter(min_vol_perf[1], min_vol_perf[0], marker=\"*\", s=100, color='r', label=\"Minimum Volatility\")\n",
    "ax.legend()\n",
    "plt.title('Efficient Frontier with Minimum Volatility Portfolio Highlighted')\n",
    "plt.xlabel('Volatility (Standard Deviation)')\n",
    "plt.ylabel('Expected Returns')\n",
    "plt.show()"
   ]
  },
  {
   "cell_type": "raw",
   "id": "3b9989b0-9ae1-4fcf-ac40-64a63f220049",
   "metadata": {},
   "source": [
    "Analysis of results"
   ]
  },
  {
   "cell_type": "raw",
   "id": "d67816b8-4627-4b9a-942b-56d1943f6402",
   "metadata": {},
   "source": [
    "Minimum Volatility Portfolio: Which is identified by a red star, this portfolio offers the lowest risk at 23.8% volatility, paired with an annual return of 24.9%, making it suitable for risk-averse investors.\n",
    "Maximum Return Portfolio: Situated at the extreme right of the frontier, it targets the highest possible returns but comes with significantly increased risk, appealing to risk-tolerant investors.\n",
    "Risk-Return Trade-Off: Moving from left to right along the frontier, there is a clear increase in expected return accompanied by higher volatility, demonstrating the classic risk-return trade-off.\n",
    "Asset Allocation: The black dots illustrate various asset combinations that are not on the frontier, indicating suboptimal portfolios that either take on unnecessary risk or forego potential returns.\n"
   ]
  },
  {
   "cell_type": "raw",
   "id": "a5ff3984-1443-421b-a338-ada719c5a61a",
   "metadata": {},
   "source": [
    "Calculating the VaR and CVaR of the portfolio"
   ]
  },
  {
   "cell_type": "code",
   "execution_count": 80,
   "id": "b8153431-7c70-4d47-a4a2-babd3b351bc6",
   "metadata": {},
   "outputs": [],
   "source": [
    "portfolio_returns = (returns * weights).sum(axis=1)\n",
    "\n",
    "from scipy.stats import norm\n",
    "\n",
    "# Calculate mean and standard deviation of portfolio returns\n",
    "portfolio_mean = portfolio_returns.mean()\n",
    "portfolio_std = portfolio_returns.std()\n",
    "\n",
    "# Set the confidence level (e.g., 95%)\n",
    "confidence_level = 0.95\n",
    "\n",
    "# Calculate VaR at the confidence level\n",
    "VaR_parametric = norm.ppf(1 - confidence_level, portfolio_mean, portfolio_std)\n",
    "\n",
    "# Calculate CVaR\n",
    "CVaR_parametric = portfolio_mean + (norm.pdf(norm.ppf(1 - confidence_level)) * portfolio_std) / (1 - confidence_level)"
   ]
  },
  {
   "cell_type": "code",
   "execution_count": 82,
   "id": "d9444b7f-b46d-4a4f-ba42-e24221f83779",
   "metadata": {},
   "outputs": [],
   "source": [
    "# Calculate VaR at the confidence level\n",
    "VaR_historical = portfolio_returns.quantile(1 - confidence_level)\n",
    "\n",
    "# Calculate CVaR\n",
    "CVaR_historical = portfolio_returns[portfolio_returns <= VaR_historical].mean()"
   ]
  },
  {
   "cell_type": "code",
   "execution_count": 84,
   "id": "ec3368f5-12c7-4c98-8724-354d5c5a445c",
   "metadata": {},
   "outputs": [
    {
     "data": {
      "image/png": "[encoded data removed]",
      "text/plain": [
       "<Figure size 1000x600 with 1 Axes>"
      ]
     },
     "metadata": {},
     "output_type": "display_data"
    }
   ],
   "source": [
    "import matplotlib.pyplot as plt\n",
    "\n",
    "plt.figure(figsize=(10, 6))\n",
    "plt.hist(portfolio_returns, bins=50, alpha=0.75)\n",
    "plt.axvline(x=VaR_historical, color='r', linestyle='dashed', linewidth=2, label=f'Historical VaR: {VaR_historical:.2%}')\n",
    "plt.axvline(x=CVaR_historical, color='g', linestyle='dashed', linewidth=2, label=f'Historical CVaR: {CVaR_historical:.2%}')\n",
    "plt.title('Portfolio Returns Distribution with VaR and CVaR')\n",
    "plt.legend()\n",
    "plt.show()"
   ]
  },
  {
   "cell_type": "raw",
   "id": "1d5c6563-d8e9-4894-8e67-4523a018797f",
   "metadata": {},
   "source": [
    "Value at Risk (VaR): The VaR threshold being set at -2.34% suggests that most of the time (95% probability), the losses will not exceed this value. This provides a quantifiable measure of risk under normal market conditions.\n",
    "Conditional Value at Risk (CVaR): The CVaR, being more negative than the VaR, provides insight into the severity of losses when they do exceed the VaR threshold. It indicates that when the portfolio performs poorly, the losses could be quite significant, averaging -4.16%."
   ]
  },
  {
   "cell_type": "code",
   "execution_count": null,
   "id": "901d9c09-7c50-4cb9-bc7b-3fefb1c94703",
   "metadata": {},
   "outputs": [],
   "source": []
  }
 ],
 "metadata": {
  "kernelspec": {
   "display_name": "Python 3 (ipykernel)",
   "language": "python",
   "name": "python3"
  },
  "language_info": {
   "codemirror_mode": {
    "name": "ipython",
    "version": 3
   },
   "file_extension": ".py",
   "mimetype": "text/x-python",
   "name": "python",
   "nbconvert_exporter": "python",
   "pygments_lexer": "ipython3",
   "version": "3.10.14"
  }
 },
 "nbformat": 4,
 "nbformat_minor": 5
}
